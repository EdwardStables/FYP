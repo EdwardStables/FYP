{
 "cells": [
  {
   "cell_type": "code",
   "execution_count": 17,
   "metadata": {},
   "outputs": [
    {
     "name": "stderr",
     "output_type": "stream",
     "text": [
      "┌ Info: Precompiling Primes [27ebfcd6-29c5-5fa9-bf4b-fb8fc14df3ae]\n",
      "└ @ Base loading.jl:1260\n"
     ]
    }
   ],
   "source": [
    "using LinearAlgebra\n",
    "using Plots\n",
    "using Primes"
   ]
  },
  {
   "cell_type": "markdown",
   "metadata": {},
   "source": [
    "# Orthomads\n",
    "### Overview\n",
    "1. Quasi-random halton sequence produces a vector in $[0,1]^n$\n",
    "2. Vector is scaled and rounded to an appropriate length, giving the *adjusted halton direction*\n",
    "3. The housholder transformation is applied to the adjusted halton direction, giving $n$ orthononal and integer vectors, forming a basis for $\\mathbb{R}^n$\n",
    "4. The basis is completed to a positive basis formed by $2n$ orthomads poll directions $D_k$, by including in $D_k$ the basis and its negatives."
   ]
  },
  {
   "cell_type": "markdown",
   "metadata": {},
   "source": [
    "### Halton Sequence $u_t$\n",
    "A deterministic family of sequences that grow dense in the hypercube $[0,1]^n$. The simplest such sequence has $t$th element\n",
    "\\begin{equation}\n",
    "u_t = (u_{t,p_1},u_{t,p_2},\\cdots,u_{t,p_n})^T \\in [0,1]^n,\n",
    "\\end{equation}\n",
    "where $p_j$ is the $j$th prime number. $u_{t,p}$ is the radical-inverse function in base $p$,\n",
    "\\begin{equation}\n",
    "u_{t,p} = \\sum^\\infty_{r=0}\\frac{a_{t,r,p}}{p^{1+r}},\n",
    "\\end{equation}\n",
    "where $a_{t,r,p}\\in \\mathbb{Z}_+$ are the unique coefficients of the base $p$ expansion of $t$:\n",
    "\\begin{equation}\n",
    "t = \\sum^\\infty_{r=0}a_{t,r,p}p^r,\n",
    "\\end{equation}"
   ]
  },
  {
   "cell_type": "code",
   "execution_count": 13,
   "metadata": {},
   "outputs": [
    {
     "data": {
      "text/plain": [
       "4-element Array{Float64,1}:\n",
       " 0.875\n",
       " 0.5555555555555556\n",
       " 0.44\n",
       " 0.02040816326530612"
      ]
     },
     "execution_count": 13,
     "metadata": {},
     "output_type": "execute_result"
    }
   ],
   "source": [
    "#The following 8 matrices correspond to the first 4 elements of uₜ for n=4 (ie, t=0...7)\n",
    "u0 = [0, 0, 0, 0]\n",
    "u1 = [1/2, 1/3, 1/5, 1/7]\n",
    "u2 = [1/4, 2/3, 2/5, 2/7]\n",
    "u3 = [3/4, 1/9, 3/5, 3/7]\n",
    "u4 = [1/8, 4/9, 4/5, 4/7]\n",
    "u5 = [5/8, 7/9, 1/25, 5/7]\n",
    "u6 = [3/8, 2/9, 6/25, 6/7]\n",
    "u7 = [7/8, 5/9, 11/25, 1/49]"
   ]
  },
  {
   "cell_type": "code",
   "execution_count": 92,
   "metadata": {},
   "outputs": [
    {
     "data": {
      "text/plain": [
       "HaltonCoefficient (generic function with 1 method)"
      ]
     },
     "execution_count": 92,
     "metadata": {},
     "output_type": "execute_result"
    }
   ],
   "source": [
    "#Return the corresponding sequence uₜ\n",
    "function Halton(n, t)\n",
    "    p = map(prime, 1:n)\n",
    "    return map(p -> HaltonEntry(p,t), p)\n",
    "end\n",
    "\n",
    "function HaltonEntry(p,t)\n",
    "    u = 0\n",
    "    a_r = HaltonCoefficient(p,t)\n",
    "    for (r,a) in enumerate(a_r)\n",
    "        u += a/(p^r) #note that the equation is a/p^r+1, but julia indexes from 1\n",
    "    end\n",
    "    return u\n",
    "end\n",
    "\n",
    "function HaltonCoefficient(p,t)\n",
    "    #Maximum non-zero value of r\n",
    "    r_max = floor(Int64, log(p, t))\n",
    "    #Need to give values for 0:r_max\n",
    "    a = zeros(Int(r_max+1))\n",
    "    t_local = t\n",
    "    for r in r_max:-1:0\n",
    "        t_local == 0 && break\n",
    "        a[r+1] = floor(t_local/p^r)\n",
    "        t_local -= p^r * a[r+1]\n",
    "    end\n",
    "    return a   \n",
    "end"
   ]
  },
  {
   "cell_type": "code",
   "execution_count": 93,
   "metadata": {},
   "outputs": [
    {
     "name": "stdout",
     "output_type": "stream",
     "text": [
      "Halton(4, 1) ≈ u1 = true\n",
      "Halton(4, 2) ≈ u2 = true\n",
      "Halton(4, 3) ≈ u3 = true\n",
      "Halton(4, 4) ≈ u4 = true\n",
      "Halton(4, 5) ≈ u5 = true\n",
      "Halton(4, 6) ≈ u6 = true\n",
      "Halton(4, 7) ≈ u7 = true\n"
     ]
    },
    {
     "data": {
      "text/plain": [
       "true"
      ]
     },
     "execution_count": 93,
     "metadata": {},
     "output_type": "execute_result"
    }
   ],
   "source": [
    "#Approx is only necessary for a few cases of floating point inaccuracy\n",
    "@show Halton(4, 1) ≈ u1\n",
    "@show Halton(4, 2) ≈ u2\n",
    "@show Halton(4, 3) ≈ u3\n",
    "@show Halton(4, 4) ≈ u4\n",
    "@show Halton(4, 5) ≈ u5\n",
    "@show Halton(4, 6) ≈ u6\n",
    "@show Halton(4, 7) ≈ u7"
   ]
  },
  {
   "cell_type": "markdown",
   "metadata": {},
   "source": [
    "Can observe some correlation in the last entry for the smaller values of t. This can be removed by excluding the initial points, the paper starts at the $n$th prime number ($p_n$) denoted $t_0$, and named the *Halton seed*.\n",
    "\n",
    "Two properties are given:\n",
    "- $2u_t - e = 0 \\Leftrightarrow n = t =1$\n",
    "- $|2u_{t,p_i}-1| = |2u_{t,p_j}-1| \\Leftrightarrow t=0$\n",
    "\n",
    "In addition the following proposition is made:\n",
    "The Halton sequence $\\{u_t\\}^\\infty_{t=1}$ is dense in the hypercube $[0,1]^n$.\n",
    "\n",
    "This implies that the union of all the directs in the sequence is dense in $[0,1]^n$. That is to say that any direction $v\\in[0,1]^n$ is an accumulation point of the sequence $\\{u_t\\}^\\infty_{t=1}$."
   ]
  },
  {
   "cell_type": "markdown",
   "metadata": {},
   "source": [
    "# Adjusted Halton direction $q_{t,l}$\n",
    "$u_t$ does not satisfy the requirements for the directions in $D_k$. $u_t$ must be scaled, translated, and rounded. The operations depend on the mesh index $l_k$. This  is used to create the *adjusted halton direction* $q_{t,l}\\in\\mathbb{Z}^n$, a direction which has norm close to $2^{|l|/2}$. The normalised direction $\\frac{q_{t,l}}{\\|q_{t,l}\\|}$ is also constructed to be close to $\\frac{2u_t-e}{\\|2u_t-e\\|}$. The first property stated shows that $2u_t-e=0$ iif $t=n=1$, which is never the case in this algorithm (as it is started at the $n$th prime number, giving t strictly larger than 1)."
   ]
  },
  {
   "cell_type": "markdown",
   "metadata": {},
   "source": [
    "Define the following sequence of functions based on the $t$th Halton direction $u_t$:\n",
    "\\begin{equation}\n",
    "q_t(\\alpha) = \\text{round}\\big(\\alpha\\frac{2u_t-e}{\\|2u_t-e\\|}\\big) \\in \\mathbb{Z}^n \\cap \\big[-\\alpha-\\frac{1}{2},+\\alpha+\\frac{1}{2}\\big]\n",
    "\\end{equation}\n",
    "Round defines the operation that sets $-0.5=-1$ and $0.5=1$. The scalar $\\alpha\\in\\mathbb{R}_+$ is a scaling factor selected s.t. $\\|q_t(\\alpha_{t,l})\\|$  is a close as possible to $2^{|l|/2}$ without exceeding it:\n",
    "\\begin{equation}\n",
    "\\alpha_{t,l} \\in argmax_{\\alpha\\in\\mathbb{R}_+}\\|q_t(\\alpha)\\| \\\\\n",
    "\\text{s.t.  } \\|q_t(\\alpha)\\|\\le 2^{|l|/2}\n",
    "\\end{equation}"
   ]
  },
  {
   "cell_type": "code",
   "execution_count": 228,
   "metadata": {},
   "outputs": [
    {
     "data": {
      "text/plain": [
       "bad_argmax (generic function with 1 method)"
      ]
     },
     "execution_count": 228,
     "metadata": {},
     "output_type": "execute_result"
    }
   ],
   "source": [
    "function AdjustedHaltonFamily(halt)\n",
    "    d = 2 * halt .- 1\n",
    "    q(α) = round.(α .* d ./ norm(d))\n",
    "    return q\n",
    "end\n",
    "\n",
    "function AdjustedHalton(halt, n, l)\n",
    "    #A function that describes a family of directions\n",
    "    q = AdjustedHaltonFamily(halt)\n",
    "    #Need to find the argument, α, of q that maximises l2 norm of result, s.t. it is ≤2^(|l|/2)\n",
    "    #∃ optimal solution satisfying α ≥ 2^(|l|/2)/√n -0.5, ∴ use as starting point\n",
    "    α = (2^(abs(l)/2)/sqrt(n)) - 0.5\n",
    "    \n",
    "    α = bad_argmax(α, x -> norm(q(x)), 2^(abs(l)/2))\n",
    "    \n",
    "    return q(α)\n",
    "end\n",
    "\n",
    "#should find some numerical line search for this\n",
    "function bad_argmax(x, f, lim; iter_lim = 10)\n",
    "    bump = 1\n",
    "    iter = 1\n",
    "    \n",
    "    while iter < iter_lim\n",
    "        t = x + bump\n",
    "        if lim >= f(t)\n",
    "            x = t\n",
    "        else\n",
    "            bump /= 2\n",
    "        end\n",
    "        iter += 1\n",
    "    end\n",
    "    return x\n",
    "end"
   ]
  },
  {
   "cell_type": "code",
   "execution_count": 190,
   "metadata": {},
   "outputs": [
    {
     "data": {
      "text/plain": [
       "([0.0, 0.0, -0.0, -1.0], 0.8125)"
      ]
     },
     "execution_count": 190,
     "metadata": {},
     "output_type": "execute_result"
    }
   ],
   "source": [
    "n = 4 \n",
    "t = 7\n",
    "l = 0\n",
    "\n",
    "h = Halton(n, t)\n",
    "#Results match paper for all their examples, however the α selection is poor and does not give the same results\n",
    "#However the rounding seems to make up for this\n",
    "AdjustedHalton(h, n, l)"
   ]
  },
  {
   "cell_type": "markdown",
   "metadata": {},
   "source": [
    "# Orthogonal integer basis construction\n",
    "\n",
    "Given an integer nonzero vector $q \\in \\mathbb{Z}^n$, the symmetricscaled householder transformation is used to construct an orthogonal basis for $\\mathbb{R}^n$ composed of integer vectors:\n",
    "\\begin{equation}\n",
    "H=\\|q\\|^2(I_n-2vv^T), \\text{where } v =\\frac{q}{\\|q\\|}.\n",
    "\\end{equation}\n",
    "Dividing the previous equation by $\\|q\\|^4$ and applying symmetry, the inverse of H is given as $H^{-1}=\\frac{H}{\\|q\\|^4}$. \n",
    "\n",
    "As $\\exists H^{-1}$ the cols of $H$ form a basis in $\\mathbb{R}^n$. The entries of $H$ are integer as $q$ and $\\|q\\|^2$ are integer."
   ]
  },
  {
   "cell_type": "code",
   "execution_count": 229,
   "metadata": {},
   "outputs": [
    {
     "data": {
      "text/plain": [
       "HouseHolder (generic function with 1 method)"
      ]
     },
     "execution_count": 229,
     "metadata": {},
     "output_type": "execute_result"
    }
   ],
   "source": [
    "function HouseHolder(q)\n",
    "    nq = norm(q)\n",
    "    v = q./nq\n",
    "    return nq^2 .* (I - 2*v*v')\n",
    "end"
   ]
  },
  {
   "cell_type": "code",
   "execution_count": 240,
   "metadata": {},
   "outputs": [],
   "source": [
    "n = 2\n",
    "t = 6\n",
    "l = 3\n",
    "\n",
    "function get_dirs(n, t, l)\n",
    "    h = Halton(n, t)\n",
    "    #Results match paper for all their examples, however the α selection is poor and does not give the same results\n",
    "    #However the rounding seems to make up for this\n",
    "    q = AdjustedHalton(h, n, l)\n",
    "    \n",
    "    H = HouseHolder(q)\n",
    "    \n",
    "    D = hcat(H, -H)\n",
    "    return D\n",
    "end\n",
    "f(n, t, l) = @time get_dirs(n, t, l);"
   ]
  },
  {
   "cell_type": "code",
   "execution_count": 264,
   "metadata": {},
   "outputs": [
    {
     "name": "stdout",
     "output_type": "stream",
     "text": [
      "  0.000022 seconds (28 allocations: 2.391 KiB)\n"
     ]
    },
    {
     "data": {
      "text/plain": [
       "4×8 Array{Float64,2}:\n",
       "  36.0   0.0  -18.0  -36.0  -36.0   -0.0   18.0  36.0\n",
       "   0.0  54.0    0.0    0.0   -0.0  -54.0   -0.0  -0.0\n",
       " -18.0   0.0   36.0  -36.0   18.0   -0.0  -36.0  36.0\n",
       " -36.0   0.0  -36.0  -18.0   36.0   -0.0   36.0  18.0"
      ]
     },
     "execution_count": 264,
     "metadata": {},
     "output_type": "execute_result"
    }
   ],
   "source": [
    "f(2, 6, 3)\n",
    "\n",
    "Dₖ = get_dirs(4, 13, 6)\n",
    "\n",
    "\n",
    "#scatter(Dₖ[1,:],Dₖ[2,:], legend=false)"
   ]
  },
  {
   "cell_type": "markdown",
   "metadata": {},
   "source": [
    "# OrthoMads \n",
    "\n",
    "0. Initialisation\n",
    "\n",
    "    $x_0\\in \\Omega, l_0 = 0, k=0, t_0=p_n$\n",
    "    \n",
    "1. Iteration k\n",
    "    - Search\n",
    "        \n",
    "        Evaluate $f$ on a finite set $S_k \\subset M_k$\n",
    "    - Poll\n",
    "    \n",
    "        if the poll size is the smallest so far: $t_k = l_k + t_0$\n",
    "        \n",
    "        else: $t_k = 1 + \\max\\{t_j:j=0,1,\\cdots,k-1\\}$\n",
    "        \n",
    "        Then compute $u_{t_k}$, $q_{t_k,l_k}$, $H_{t_k,l_k}$, and $D_k=[H_{t_k,l_k},H_{t_k,l_k}]$\n",
    "        \n",
    "        Finally evaluate $f$ on $P_k \\subset M_k$\n",
    "2. Updates\n",
    "\n",
    "    If the iteration is successful then: $x_{k+1} = x_s \\text{ or } x_p$, and$l_{k+1} = l_k -1$\n",
    "\n",
    "    Otherwise: $x_{k+1} = x_k$, and $l_{k+1} = l_k +1$.\n",
    "    \n",
    "    Finally: $k = k + 1$, and goto step $1$ if no stopping condition is met."
   ]
  }
 ],
 "metadata": {
  "kernelspec": {
   "display_name": "Julia 1.4.1",
   "language": "julia",
   "name": "julia-1.4"
  },
  "language_info": {
   "file_extension": ".jl",
   "mimetype": "application/julia",
   "name": "julia",
   "version": "1.4.1"
  }
 },
 "nbformat": 4,
 "nbformat_minor": 4
}
