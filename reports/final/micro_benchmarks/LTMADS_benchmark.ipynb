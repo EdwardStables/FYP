{
 "cells": [
  {
   "cell_type": "code",
   "execution_count": 1,
   "metadata": {},
   "outputs": [],
   "source": [
    "using BenchmarkTools\n",
    "using LinearAlgebra\n",
    "using Random\n",
    "using Profile"
   ]
  },
  {
   "cell_type": "code",
   "execution_count": 2,
   "metadata": {},
   "outputs": [],
   "source": [
    "mutable struct LTMADS{T}\n",
    "    b::Dict{T,Vector{T}}\n",
    "    i::Dict{T,Int64}\n",
    "    maximal_basis::Bool\n",
    "    LTMADS(;kwargs...) = LTMADS{Float64}(;kwargs...)\n",
    "    function LTMADS{T}(;maximal_basis=false) where T\n",
    "        g = new()\n",
    "        g.b = Dict{T, Vector{T}}()\n",
    "        g.i = Dict{T, Int64}()\n",
    "        g.maximal_basis = maximal_basis\n",
    "        return g\n",
    "    end\n",
    "end"
   ]
  },
  {
   "cell_type": "code",
   "execution_count": 3,
   "metadata": {},
   "outputs": [],
   "source": [
    "mutable struct Mesh{T} <: AbstractMesh \n",
    "    G::Matrix{T}\n",
    "    D::Matrix{T}\n",
    "    l::Int\n",
    "    Δᵐ::T\n",
    "    Δᵖ::T\n",
    "\n",
    "    # Override constructor for different default meshes for \n",
    "    # different poll techniques.\n",
    "    Mesh(N::Int64) = Mesh{Float64}(N)\n",
    "    function Mesh{T}(N::Int64) where T\n",
    "        mesh = new()\n",
    "        mesh.l = 0\n",
    "        mesh.Δᵐ = min(1, 4.0^(-mesh.l))\n",
    "        mesh.Δᵖ = 2.0^(-mesh.l)\n",
    "        mesh.G = Matrix(I,N,N)\n",
    "        mesh.D = hcat(Matrix(I,N,N),-Matrix(I,N,N))\n",
    "        return mesh\n",
    "    end \n",
    "end"
   ]
  },
  {
   "cell_type": "code",
   "execution_count": 46,
   "metadata": {},
   "outputs": [
    {
     "data": {
      "text/plain": [
       "BenchmarkTools.Trial: \n",
       "  memory estimate:  744.77 KiB\n",
       "  allocs estimate:  438\n",
       "  --------------\n",
       "  minimum time:     229.027 μs (0.00% GC)\n",
       "  median time:      263.759 μs (0.00% GC)\n",
       "  mean time:        317.758 μs (10.57% GC)\n",
       "  maximum time:     2.497 ms (80.14% GC)\n",
       "  --------------\n",
       "  samples:          10000\n",
       "  evals/sample:     1"
      ]
     },
     "execution_count": 46,
     "metadata": {},
     "output_type": "execute_result"
    }
   ],
   "source": [
    "setup(;N=4, max=false) = (N, Mesh(N), LTMADS(maximal_basis=max))\n",
    "\n",
    "@benchmark GenerateDirections(N, m, DG) setup=((N,m,DG)=setup(N=100,max=false))"
   ]
  },
  {
   "cell_type": "code",
   "execution_count": 52,
   "metadata": {},
   "outputs": [
    {
     "name": "stdout",
     "output_type": "stream",
     "text": [
      "Variables\n",
      "  #self#\u001b[36m::Core.Compiler.Const(form_basis_matrix, false)\u001b[39m\n",
      "  N\u001b[36m::Int64\u001b[39m\n",
      "  B\u001b[36m::Array{Int64,2}\u001b[39m\n",
      "  DG\u001b[36m::LTMADS{Float64}\u001b[39m\n",
      "  d\u001b[36m::Array{Float64,1}\u001b[39m\n",
      "  @_6\u001b[33m\u001b[1m::Union{Nothing, Tuple{Int64,Int64}}\u001b[22m\u001b[39m\n",
      "  i\u001b[36m::Int64\u001b[39m\n",
      "\n",
      "Body\u001b[36m::Array{Int64,2}\u001b[39m\n",
      "\u001b[90m1 ─\u001b[39m       Core.NewvarNode(:(d))\n",
      "\u001b[90m│  \u001b[39m       Core.NewvarNode(:(@_6))\n",
      "\u001b[90m│  \u001b[39m %3  = Core.apply_type(Main.Matrix, Main.Int)\u001b[36m::Core.Compiler.Const(Array{Int64,2}, false)\u001b[39m\n",
      "\u001b[90m│  \u001b[39m %4  = Base.getproperty(DG, :maximal_basis)\u001b[36m::Bool\u001b[39m\n",
      "\u001b[90m└──\u001b[39m       goto #4 if not %4\n",
      "\u001b[90m2 ─\u001b[39m %6  = -B\u001b[36m::Array{Int64,2}\u001b[39m\n",
      "\u001b[90m│  \u001b[39m %7  = Main.hcat(B, %6)\u001b[36m::Array{Int64,2}\u001b[39m\n",
      "\u001b[90m│  \u001b[39m %8  = Base.convert(%3, %7)\u001b[36m::Array{Int64,2}\u001b[39m\n",
      "\u001b[90m│  \u001b[39m %9  = Core.typeassert(%8, %3)\u001b[36m::Array{Int64,2}\u001b[39m\n",
      "\u001b[90m└──\u001b[39m       return %9\n",
      "\u001b[90m3 ─\u001b[39m       Core.Compiler.Const(:(goto %12), false)\n",
      "\u001b[90m4 ┄\u001b[39m       (d = Main.ones($(Expr(:static_parameter, 1)), N))\n",
      "\u001b[90m│  \u001b[39m %13 = (1:N)\u001b[36m::Core.Compiler.PartialStruct(UnitRange{Int64}, Any[Core.Compiler.Const(1, false), Int64])\u001b[39m\n",
      "\u001b[90m│  \u001b[39m       (@_6 = Base.iterate(%13))\n",
      "\u001b[90m│  \u001b[39m %15 = (@_6 === nothing)\u001b[36m::Bool\u001b[39m\n",
      "\u001b[90m│  \u001b[39m %16 = Base.not_int(%15)\u001b[36m::Bool\u001b[39m\n",
      "\u001b[90m└──\u001b[39m       goto #7 if not %16\n",
      "\u001b[90m5 ┄\u001b[39m %18 = @_6::Tuple{Int64,Int64}\u001b[36m::Tuple{Int64,Int64}\u001b[39m\n",
      "\u001b[90m│  \u001b[39m       (i = Core.getfield(%18, 1))\n",
      "\u001b[90m│  \u001b[39m %20 = Core.getfield(%18, 2)\u001b[36m::Int64\u001b[39m\n",
      "\u001b[90m│  \u001b[39m %21 = Base.getindex(B, i, Main.:(:))\u001b[36m::Array{Int64,1}\u001b[39m\n",
      "\u001b[90m│  \u001b[39m %22 = Main.sum(%21)\u001b[36m::Int64\u001b[39m\n",
      "\u001b[90m│  \u001b[39m %23 = -%22\u001b[36m::Int64\u001b[39m\n",
      "\u001b[90m│  \u001b[39m       Base.setindex!(d, %23, i)\n",
      "\u001b[90m│  \u001b[39m       (@_6 = Base.iterate(%13, %20))\n",
      "\u001b[90m│  \u001b[39m %26 = (@_6 === nothing)\u001b[36m::Bool\u001b[39m\n",
      "\u001b[90m│  \u001b[39m %27 = Base.not_int(%26)\u001b[36m::Bool\u001b[39m\n",
      "\u001b[90m└──\u001b[39m       goto #7 if not %27\n",
      "\u001b[90m6 ─\u001b[39m       goto #5\n",
      "\u001b[90m7 ┄\u001b[39m %30 = Base.hcat(B, d)\u001b[36m::Array{Float64,2}\u001b[39m\n",
      "\u001b[90m│  \u001b[39m %31 = Base.convert(%3, %30)\u001b[36m::Array{Int64,2}\u001b[39m\n",
      "\u001b[90m│  \u001b[39m %32 = Core.typeassert(%31, %3)\u001b[36m::Array{Int64,2}\u001b[39m\n",
      "\u001b[90m└──\u001b[39m       return %32\n"
     ]
    }
   ],
   "source": [
    "N,m,DG =setup(N=100,max=false)\n",
    "#GenerateDirections(N, m, DG);\n",
    "B = LT_basis_generation(m,N,DG)\n",
    "@code_warntype form_basis_matrix(N, B, DG)"
   ]
  },
  {
   "cell_type": "code",
   "execution_count": 38,
   "metadata": {},
   "outputs": [
    {
     "data": {
      "text/plain": [
       "GenerateDirections (generic function with 1 method)"
      ]
     },
     "execution_count": 38,
     "metadata": {},
     "output_type": "execute_result"
    }
   ],
   "source": [
    "function GenerateDirections(N::Int64, m::Mesh, DG::LTMADS{T})::Matrix{T} where T\n",
    "    B = LT_basis_generation(m, N, DG)\n",
    "    Dₖ = form_basis_matrix(N, B, DG)\n",
    "\n",
    "    return Dₖ\n",
    "end"
   ]
  },
  {
   "cell_type": "code",
   "execution_count": 53,
   "metadata": {},
   "outputs": [
    {
     "data": {
      "text/plain": [
       "form_basis_matrix (generic function with 1 method)"
      ]
     },
     "execution_count": 53,
     "metadata": {},
     "output_type": "execute_result"
    }
   ],
   "source": [
    "function form_basis_matrix(N::Int64, B::Matrix{Int}, DG::LTMADS{T})::Matrix{Int} where T\n",
    "    DG.maximal_basis && return [B -B]\n",
    "    \n",
    "    \n",
    "    d = ones(T, N)\n",
    "    for i in 1:N\n",
    "        d[i] = -sum(B[i,:])\n",
    "    end\n",
    "    \n",
    "    return [B d]\n",
    "end"
   ]
  },
  {
   "cell_type": "code",
   "execution_count": 40,
   "metadata": {},
   "outputs": [
    {
     "data": {
      "text/plain": [
       "LT_basis_generation (generic function with 1 method)"
      ]
     },
     "execution_count": 40,
     "metadata": {},
     "output_type": "execute_result"
    }
   ],
   "source": [
    "function LT_basis_generation(m::Mesh, N::Int, DG::LTMADS{T})::Matrix{Int} where T\n",
    "    b, i = b_l_generation(DG.b, DG.i, m.l, N)\n",
    "    \n",
    "    L = L_generation(N, m.l)\n",
    "    \n",
    "    B = B_generation(N, i, b, L)\n",
    "    \n",
    "    B′ = B′_generation(B, N)\n",
    "    \n",
    "    return B′\n",
    "end"
   ]
  },
  {
   "cell_type": "code",
   "execution_count": 41,
   "metadata": {},
   "outputs": [
    {
     "data": {
      "text/plain": [
       "B′_generation (generic function with 1 method)"
      ]
     },
     "execution_count": 41,
     "metadata": {},
     "output_type": "execute_result"
    }
   ],
   "source": [
    "function B′_generation(B, N; perm=shuffle(1:N))::Matrix{Int}\n",
    "    B′ = zeros(N,N)\n",
    "    for (i,e) in enumerate(eachcol(B))\n",
    "        B′[:,perm[i]] = e\n",
    "    end\n",
    "    return B′\n",
    "end"
   ]
  },
  {
   "cell_type": "code",
   "execution_count": 42,
   "metadata": {},
   "outputs": [
    {
     "data": {
      "text/plain": [
       "b_l_generation (generic function with 1 method)"
      ]
     },
     "execution_count": 42,
     "metadata": {},
     "output_type": "execute_result"
    }
   ],
   "source": [
    "function b_l_generation(b::Dict{T,Vector{T}}, i::Dict{T,Int64}, l::Int64, N::Int64)::Tuple{Vector{Int},Int} where T\n",
    "    if !haskey(b, l)\n",
    "        i[l] = rand(1:N)\n",
    "        b[l] = zeros(T, N)\n",
    "        \n",
    "        for j in 1:N\n",
    "            if j == i[l]\n",
    "                b[l][j] = rand([-2^l, 2^l])\n",
    "            else\n",
    "                b[l][j] = rand(-2^l+1:2^l-1)\n",
    "            end\n",
    "        end\n",
    "    end\n",
    "    return b[l], i[l]\n",
    "end"
   ]
  },
  {
   "cell_type": "code",
   "execution_count": 43,
   "metadata": {},
   "outputs": [
    {
     "data": {
      "text/plain": [
       "L_generation (generic function with 1 method)"
      ]
     },
     "execution_count": 43,
     "metadata": {},
     "output_type": "execute_result"
    }
   ],
   "source": [
    "function L_generation(N::Int64, l::Int64)\n",
    "    L = zeros(Int64, N-1,N-1)\n",
    "\n",
    "    for i=1:N-1, j=1:N-1\n",
    "        if j==i\n",
    "            L[i,j] = rand([2^l, -2^l])\n",
    "        elseif j < i\n",
    "            L[i,j] = rand(1-2^l:-1+2^l)\n",
    "        end\n",
    "    end\n",
    "    \n",
    "    return L\n",
    "end"
   ]
  },
  {
   "cell_type": "code",
   "execution_count": 44,
   "metadata": {},
   "outputs": [
    {
     "data": {
      "text/plain": [
       "B_generation (generic function with 2 methods)"
      ]
     },
     "execution_count": 44,
     "metadata": {},
     "output_type": "execute_result"
    }
   ],
   "source": [
    "function B_generation(N::Int64, i::Int64, b::Vector{Int64}, L::Matrix{Int64}; perm=shuffle(setdiff(1:N, i)))\n",
    "    B = zeros(Int64, N,N-1)\n",
    "    for (i,e) in enumerate(eachrow(L))\n",
    "        B[perm[i],:] = e\n",
    "    end\n",
    "    B = [B b]\n",
    "    \n",
    "    return B\n",
    "end"
   ]
  },
  {
   "cell_type": "code",
   "execution_count": null,
   "metadata": {},
   "outputs": [],
   "source": []
  }
 ],
 "metadata": {
  "kernelspec": {
   "display_name": "Julia 1.4.1",
   "language": "julia",
   "name": "julia-1.4"
  },
  "language_info": {
   "file_extension": ".jl",
   "mimetype": "application/julia",
   "name": "julia",
   "version": "1.4.1"
  }
 },
 "nbformat": 4,
 "nbformat_minor": 4
}
