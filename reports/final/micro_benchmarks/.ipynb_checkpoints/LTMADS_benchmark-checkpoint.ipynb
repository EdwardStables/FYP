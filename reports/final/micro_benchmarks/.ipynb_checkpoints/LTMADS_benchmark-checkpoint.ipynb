{
 "cells": [
  {
   "cell_type": "code",
   "execution_count": 26,
   "metadata": {},
   "outputs": [],
   "source": [
    "using BenchmarkTools\n",
    "using LinearAlgebra\n",
    "using Random"
   ]
  },
  {
   "cell_type": "code",
   "execution_count": 54,
   "metadata": {},
   "outputs": [],
   "source": [
    "mutable struct LTMADS{T}\n",
    "    b::Dict{T,Vector{T}}\n",
    "    i::Dict{T,Int}\n",
    "    maximal_basis::Bool\n",
    "    LTMADS(;kwargs...) = LTMADS{Float64}(;kwargs...)\n",
    "    function LTMADS{T}(;maximal_basis=false) where T\n",
    "        g = new()\n",
    "        g.b = Dict{T, Vector{T}}()\n",
    "        g.i = Dict{T, Int}()\n",
    "        g.maximal_basis = maximal_basis\n",
    "        return g\n",
    "    end\n",
    "end"
   ]
  },
  {
   "cell_type": "code",
   "execution_count": 10,
   "metadata": {},
   "outputs": [],
   "source": [
    "mutable struct Mesh{T}\n",
    "    G::Matrix{T}\n",
    "    D::Matrix{T}\n",
    "    l::Int\n",
    "    Δᵐ::T\n",
    "    Δᵖ::T\n",
    "\n",
    "    # Override constructor for different default meshes for \n",
    "    # different poll techniques.\n",
    "    Mesh(N::Int64) = Mesh{Float64}(N)\n",
    "    function Mesh{T}(N::Int64) where T\n",
    "        mesh = new()\n",
    "        mesh.l = 0\n",
    "        mesh.Δᵐ = min(1, 4.0^(-mesh.l))\n",
    "        mesh.Δᵖ = 2.0^(-mesh.l)\n",
    "        mesh.G = Matrix(I,N,N)\n",
    "        mesh.D = hcat(Matrix(I,N,N),-Matrix(I,N,N))\n",
    "        return mesh\n",
    "    end \n",
    "end"
   ]
  },
  {
   "cell_type": "code",
   "execution_count": 91,
   "metadata": {},
   "outputs": [
    {
     "data": {
      "text/plain": [
       "BenchmarkTools.Trial: \n",
       "  memory estimate:  2.94 KiB\n",
       "  allocs estimate:  30\n",
       "  --------------\n",
       "  minimum time:     1.562 μs (0.00% GC)\n",
       "  median time:      1.827 μs (0.00% GC)\n",
       "  mean time:        2.212 μs (9.44% GC)\n",
       "  maximum time:     378.704 μs (97.88% GC)\n",
       "  --------------\n",
       "  samples:          10000\n",
       "  evals/sample:     10"
      ]
     },
     "execution_count": 91,
     "metadata": {},
     "output_type": "execute_result"
    }
   ],
   "source": [
    "setup(;N=4, max=false) = (N, Mesh(N), LTMADS(maximal_basis=max))\n",
    "\n",
    "@benchmark GenerateDirections(N, m, DG) setup=((N,m,DG)=setup(max=true))"
   ]
  },
  {
   "cell_type": "code",
   "execution_count": 88,
   "metadata": {},
   "outputs": [
    {
     "name": "stdout",
     "output_type": "stream",
     "text": [
      "DG = LTMADS{Float64}(Dict{Float64,Array{Float64,1}}(), Dict{Float64,Int64}(), true)\n"
     ]
    },
    {
     "data": {
      "text/plain": [
       "4×8 Array{Float64,2}:\n",
       "  0.0  0.0  -1.0  0.0  -0.0  -0.0   1.0  -0.0\n",
       " -1.0  0.0   0.0  0.0   1.0  -0.0  -0.0  -0.0\n",
       "  0.0  1.0   0.0  0.0  -0.0  -1.0  -0.0  -0.0\n",
       "  0.0  0.0   0.0  1.0  -0.0  -0.0  -0.0  -1.0"
      ]
     },
     "execution_count": 88,
     "metadata": {},
     "output_type": "execute_result"
    }
   ],
   "source": [
    "N,m,DG=setup(max=true)\n",
    "@show DG\n",
    "GenerateDirections(N, m, DG)"
   ]
  },
  {
   "cell_type": "code",
   "execution_count": 24,
   "metadata": {},
   "outputs": [
    {
     "data": {
      "text/plain": [
       "GenerateDirections (generic function with 2 methods)"
      ]
     },
     "execution_count": 24,
     "metadata": {},
     "output_type": "execute_result"
    }
   ],
   "source": [
    "function GenerateDirections(N::Int, m::Mesh, DG::LTMADS{T})::Matrix{T} where T\n",
    "    B = LT_basis_generation(m.Δᵐ, N, DG)\n",
    "    Dₖ = form_basis_matrix(N, B, DG.maximal_basis)\n",
    "\n",
    "    return Dₖ\n",
    "end"
   ]
  },
  {
   "cell_type": "code",
   "execution_count": 12,
   "metadata": {},
   "outputs": [
    {
     "data": {
      "text/plain": [
       "form_basis_matrix (generic function with 1 method)"
      ]
     },
     "execution_count": 12,
     "metadata": {},
     "output_type": "execute_result"
    }
   ],
   "source": [
    "function form_basis_matrix(N, B, maximal_basis)\n",
    "    maximal_basis && return [B -B]\n",
    "\n",
    "    d = [-sum(B[i,:]) for i=1:N]\n",
    "    return [B d]\n",
    "end"
   ]
  },
  {
   "cell_type": "code",
   "execution_count": 13,
   "metadata": {},
   "outputs": [
    {
     "data": {
      "text/plain": [
       "LT_basis_generation (generic function with 1 method)"
      ]
     },
     "execution_count": 13,
     "metadata": {},
     "output_type": "execute_result"
    }
   ],
   "source": [
    "function LT_basis_generation(Δ::T, N::Int, DG::LTMADS{T}) where T\n",
    "    l = convert(T,-log(4,Δ))\n",
    "    b, i = b_l_generation(DG.b, DG.i, l, N)\n",
    "\n",
    "    L = L_generation(N, l)\n",
    "\n",
    "    B = B_generation(N, i, b, L)\n",
    "    \n",
    "    B′ = B′_generation(B, N)\n",
    "\n",
    "    return B′\n",
    "end"
   ]
  },
  {
   "cell_type": "code",
   "execution_count": 14,
   "metadata": {},
   "outputs": [
    {
     "data": {
      "text/plain": [
       "B′_generation (generic function with 1 method)"
      ]
     },
     "execution_count": 14,
     "metadata": {},
     "output_type": "execute_result"
    }
   ],
   "source": [
    "function B′_generation(B, N; perm=shuffle(1:N)) \n",
    "    B′ = zeros(N,N)\n",
    "    for (i,e) in enumerate(eachcol(B))\n",
    "        B′[:,perm[i]] = e\n",
    "    end\n",
    "    return B′\n",
    "end"
   ]
  },
  {
   "cell_type": "code",
   "execution_count": 15,
   "metadata": {},
   "outputs": [
    {
     "data": {
      "text/plain": [
       "b_l_generation (generic function with 1 method)"
      ]
     },
     "execution_count": 15,
     "metadata": {},
     "output_type": "execute_result"
    }
   ],
   "source": [
    "function b_l_generation(b::Dict{T,Vector{T}}, i::Dict{T,Int}, l::T, N::Int) where T\n",
    "    if !haskey(b, l)\n",
    "        i[l] = rand(1:N)\n",
    "        b[l] = [rand(-2^l+1:2^l-1) for _=1:N]\n",
    "        b[l][i[l]] = rand([-1, 1]) * 2^l\n",
    "    end\n",
    "    #println(b)\n",
    "    return b[l], i[l]\n",
    "end"
   ]
  },
  {
   "cell_type": "code",
   "execution_count": 16,
   "metadata": {},
   "outputs": [
    {
     "data": {
      "text/plain": [
       "L_generation (generic function with 1 method)"
      ]
     },
     "execution_count": 16,
     "metadata": {},
     "output_type": "execute_result"
    }
   ],
   "source": [
    "function L_generation(N, l)\n",
    "    L = zeros(N-1,N-1)\n",
    "\n",
    "    for i=1:N-1, j=1:N-1\n",
    "        if j==i\n",
    "            L[i,j] = rand([2^l, -2^l])\n",
    "        elseif j < i\n",
    "            L[i,j] = rand(1-2^l:-1+2^l)\n",
    "        end\n",
    "    end\n",
    "    \n",
    "    return L\n",
    "end"
   ]
  },
  {
   "cell_type": "code",
   "execution_count": 17,
   "metadata": {},
   "outputs": [
    {
     "data": {
      "text/plain": [
       "B_generation (generic function with 1 method)"
      ]
     },
     "execution_count": 17,
     "metadata": {},
     "output_type": "execute_result"
    }
   ],
   "source": [
    "function B_generation(N, i, b, L; perm=shuffle(setdiff(1:N, i)))\n",
    "    B = zeros(N,N-1)\n",
    "    for (i,e) in enumerate(eachrow(L))\n",
    "        B[perm[i],:] = e\n",
    "    end\n",
    "    B = [B b]\n",
    "    return B\n",
    "end"
   ]
  },
  {
   "cell_type": "code",
   "execution_count": null,
   "metadata": {},
   "outputs": [],
   "source": []
  }
 ],
 "metadata": {
  "kernelspec": {
   "display_name": "Julia 1.4.1",
   "language": "julia",
   "name": "julia-1.4"
  },
  "language_info": {
   "file_extension": ".jl",
   "mimetype": "application/julia",
   "name": "julia",
   "version": "1.4.1"
  }
 },
 "nbformat": 4,
 "nbformat_minor": 4
}
